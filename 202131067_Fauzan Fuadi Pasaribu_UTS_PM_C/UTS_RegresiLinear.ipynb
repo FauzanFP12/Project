{
 "cells": [
  {
   "cell_type": "markdown",
   "id": "a8295412",
   "metadata": {},
   "source": [
    "### Dataset"
   ]
  },
  {
   "cell_type": "code",
   "execution_count": 1,
   "id": "72bd7a2f",
   "metadata": {},
   "outputs": [],
   "source": [
    "# Import library pandas untuk manipulasi dan analisis data\n",
    "import pandas as pd"
   ]
  },
  {
   "cell_type": "code",
   "execution_count": 2,
   "id": "06df2590",
   "metadata": {},
   "outputs": [
    {
     "data": {
      "text/html": [
       "<div>\n",
       "<style scoped>\n",
       "    .dataframe tbody tr th:only-of-type {\n",
       "        vertical-align: middle;\n",
       "    }\n",
       "\n",
       "    .dataframe tbody tr th {\n",
       "        vertical-align: top;\n",
       "    }\n",
       "\n",
       "    .dataframe thead th {\n",
       "        text-align: right;\n",
       "    }\n",
       "</style>\n",
       "<table border=\"1\" class=\"dataframe\">\n",
       "  <thead>\n",
       "    <tr style=\"text-align: right;\">\n",
       "      <th></th>\n",
       "      <th>Production (X)</th>\n",
       "      <th>Harvest Area (Y)</th>\n",
       "    </tr>\n",
       "  </thead>\n",
       "  <tbody>\n",
       "    <tr>\n",
       "      <th>0</th>\n",
       "      <td>1329536.0</td>\n",
       "      <td>323589.0</td>\n",
       "    </tr>\n",
       "    <tr>\n",
       "      <th>1</th>\n",
       "      <td>1299699.0</td>\n",
       "      <td>329041.0</td>\n",
       "    </tr>\n",
       "    <tr>\n",
       "      <th>2</th>\n",
       "      <td>1382905.0</td>\n",
       "      <td>339253.0</td>\n",
       "    </tr>\n",
       "    <tr>\n",
       "      <th>3</th>\n",
       "      <td>1419128.0</td>\n",
       "      <td>348223.0</td>\n",
       "    </tr>\n",
       "    <tr>\n",
       "      <th>4</th>\n",
       "      <td>1368074.0</td>\n",
       "      <td>337561.0</td>\n",
       "    </tr>\n",
       "  </tbody>\n",
       "</table>\n",
       "</div>"
      ],
      "text/plain": [
       "   Production (X)  Harvest Area (Y)\n",
       "0       1329536.0          323589.0\n",
       "1       1299699.0          329041.0\n",
       "2       1382905.0          339253.0\n",
       "3       1419128.0          348223.0\n",
       "4       1368074.0          337561.0"
      ]
     },
     "execution_count": 2,
     "metadata": {},
     "output_type": "execute_result"
    }
   ],
   "source": [
    "# Menampilkan dataset yang terdiri dari kolom 'Production (X)' dan 'Harvest Area (Y)'\n",
    "data = pd.read_csv('R02_rice_field.csv')\n",
    "data.head()"
   ]
  },
  {
   "cell_type": "markdown",
   "id": "e0d9f0a8",
   "metadata": {},
   "source": [
    "### Kolerasi"
   ]
  },
  {
   "cell_type": "code",
   "execution_count": 3,
   "id": "1498d22b",
   "metadata": {
    "scrolled": true
   },
   "outputs": [
    {
     "data": {
      "text/html": [
       "<div>\n",
       "<style scoped>\n",
       "    .dataframe tbody tr th:only-of-type {\n",
       "        vertical-align: middle;\n",
       "    }\n",
       "\n",
       "    .dataframe tbody tr th {\n",
       "        vertical-align: top;\n",
       "    }\n",
       "\n",
       "    .dataframe thead th {\n",
       "        text-align: right;\n",
       "    }\n",
       "</style>\n",
       "<table border=\"1\" class=\"dataframe\">\n",
       "  <thead>\n",
       "    <tr style=\"text-align: right;\">\n",
       "      <th></th>\n",
       "      <th>Production (X)</th>\n",
       "      <th>Harvest Area (Y)</th>\n",
       "    </tr>\n",
       "  </thead>\n",
       "  <tbody>\n",
       "    <tr>\n",
       "      <th>Production (X)</th>\n",
       "      <td>1.000000</td>\n",
       "      <td>0.905622</td>\n",
       "    </tr>\n",
       "    <tr>\n",
       "      <th>Harvest Area (Y)</th>\n",
       "      <td>0.905622</td>\n",
       "      <td>1.000000</td>\n",
       "    </tr>\n",
       "  </tbody>\n",
       "</table>\n",
       "</div>"
      ],
      "text/plain": [
       "                  Production (X)  Harvest Area (Y)\n",
       "Production (X)          1.000000          0.905622\n",
       "Harvest Area (Y)        0.905622          1.000000"
      ]
     },
     "execution_count": 3,
     "metadata": {},
     "output_type": "execute_result"
    }
   ],
   "source": [
    "# Menghitung korelasi antara variabel 'Production (X)' dan 'Harvest Area (Y)'\n",
    "data.corr()"
   ]
  },
  {
   "cell_type": "markdown",
   "id": "a8183746",
   "metadata": {},
   "source": [
    "### Spill Data"
   ]
  },
  {
   "cell_type": "code",
   "execution_count": 4,
   "id": "8ea4c7fb",
   "metadata": {},
   "outputs": [],
   "source": [
    "# Import library numpy untuk manipulasi array\n",
    "import numpy as np\n",
    "# Menyiapkan data untuk dimodelkan dengan variabel independen 'Production (X)' dan dependen 'Harvest Area (Y)'\n",
    "productions_X = data['Production (X)'].values[:, np.newaxis]\n",
    "harvest_area_Y = data['Harvest Area (Y)'].values"
   ]
  },
  {
   "cell_type": "markdown",
   "id": "bd87f527",
   "metadata": {},
   "source": [
    "### Modelling"
   ]
  },
  {
   "cell_type": "code",
   "execution_count": 5,
   "id": "7f7ac0ed",
   "metadata": {},
   "outputs": [
    {
     "data": {
      "text/html": [
       "<style>#sk-container-id-1 {color: black;}#sk-container-id-1 pre{padding: 0;}#sk-container-id-1 div.sk-toggleable {background-color: white;}#sk-container-id-1 label.sk-toggleable__label {cursor: pointer;display: block;width: 100%;margin-bottom: 0;padding: 0.3em;box-sizing: border-box;text-align: center;}#sk-container-id-1 label.sk-toggleable__label-arrow:before {content: \"▸\";float: left;margin-right: 0.25em;color: #696969;}#sk-container-id-1 label.sk-toggleable__label-arrow:hover:before {color: black;}#sk-container-id-1 div.sk-estimator:hover label.sk-toggleable__label-arrow:before {color: black;}#sk-container-id-1 div.sk-toggleable__content {max-height: 0;max-width: 0;overflow: hidden;text-align: left;background-color: #f0f8ff;}#sk-container-id-1 div.sk-toggleable__content pre {margin: 0.2em;color: black;border-radius: 0.25em;background-color: #f0f8ff;}#sk-container-id-1 input.sk-toggleable__control:checked~div.sk-toggleable__content {max-height: 200px;max-width: 100%;overflow: auto;}#sk-container-id-1 input.sk-toggleable__control:checked~label.sk-toggleable__label-arrow:before {content: \"▾\";}#sk-container-id-1 div.sk-estimator input.sk-toggleable__control:checked~label.sk-toggleable__label {background-color: #d4ebff;}#sk-container-id-1 div.sk-label input.sk-toggleable__control:checked~label.sk-toggleable__label {background-color: #d4ebff;}#sk-container-id-1 input.sk-hidden--visually {border: 0;clip: rect(1px 1px 1px 1px);clip: rect(1px, 1px, 1px, 1px);height: 1px;margin: -1px;overflow: hidden;padding: 0;position: absolute;width: 1px;}#sk-container-id-1 div.sk-estimator {font-family: monospace;background-color: #f0f8ff;border: 1px dotted black;border-radius: 0.25em;box-sizing: border-box;margin-bottom: 0.5em;}#sk-container-id-1 div.sk-estimator:hover {background-color: #d4ebff;}#sk-container-id-1 div.sk-parallel-item::after {content: \"\";width: 100%;border-bottom: 1px solid gray;flex-grow: 1;}#sk-container-id-1 div.sk-label:hover label.sk-toggleable__label {background-color: #d4ebff;}#sk-container-id-1 div.sk-serial::before {content: \"\";position: absolute;border-left: 1px solid gray;box-sizing: border-box;top: 0;bottom: 0;left: 50%;z-index: 0;}#sk-container-id-1 div.sk-serial {display: flex;flex-direction: column;align-items: center;background-color: white;padding-right: 0.2em;padding-left: 0.2em;position: relative;}#sk-container-id-1 div.sk-item {position: relative;z-index: 1;}#sk-container-id-1 div.sk-parallel {display: flex;align-items: stretch;justify-content: center;background-color: white;position: relative;}#sk-container-id-1 div.sk-item::before, #sk-container-id-1 div.sk-parallel-item::before {content: \"\";position: absolute;border-left: 1px solid gray;box-sizing: border-box;top: 0;bottom: 0;left: 50%;z-index: -1;}#sk-container-id-1 div.sk-parallel-item {display: flex;flex-direction: column;z-index: 1;position: relative;background-color: white;}#sk-container-id-1 div.sk-parallel-item:first-child::after {align-self: flex-end;width: 50%;}#sk-container-id-1 div.sk-parallel-item:last-child::after {align-self: flex-start;width: 50%;}#sk-container-id-1 div.sk-parallel-item:only-child::after {width: 0;}#sk-container-id-1 div.sk-dashed-wrapped {border: 1px dashed gray;margin: 0 0.4em 0.5em 0.4em;box-sizing: border-box;padding-bottom: 0.4em;background-color: white;}#sk-container-id-1 div.sk-label label {font-family: monospace;font-weight: bold;display: inline-block;line-height: 1.2em;}#sk-container-id-1 div.sk-label-container {text-align: center;}#sk-container-id-1 div.sk-container {/* jupyter's `normalize.less` sets `[hidden] { display: none; }` but bootstrap.min.css set `[hidden] { display: none !important; }` so we also need the `!important` here to be able to override the default hidden behavior on the sphinx rendered scikit-learn.org. See: https://github.com/scikit-learn/scikit-learn/issues/21755 */display: inline-block !important;position: relative;}#sk-container-id-1 div.sk-text-repr-fallback {display: none;}</style><div id=\"sk-container-id-1\" class=\"sk-top-container\"><div class=\"sk-text-repr-fallback\"><pre>LinearRegression()</pre><b>In a Jupyter environment, please rerun this cell to show the HTML representation or trust the notebook. <br />On GitHub, the HTML representation is unable to render, please try loading this page with nbviewer.org.</b></div><div class=\"sk-container\" hidden><div class=\"sk-item\"><div class=\"sk-estimator sk-toggleable\"><input class=\"sk-toggleable__control sk-hidden--visually\" id=\"sk-estimator-id-1\" type=\"checkbox\" checked><label for=\"sk-estimator-id-1\" class=\"sk-toggleable__label sk-toggleable__label-arrow\">LinearRegression</label><div class=\"sk-toggleable__content\"><pre>LinearRegression()</pre></div></div></div></div></div>"
      ],
      "text/plain": [
       "LinearRegression()"
      ]
     },
     "execution_count": 5,
     "metadata": {},
     "output_type": "execute_result"
    }
   ],
   "source": [
    "# Membuat model regresi linear menggunakan LinearRegression dari scikit-learn\n",
    "from sklearn.linear_model import LinearRegression\n",
    "\n",
    "# Inisialisasi model regresi linear\n",
    "model = LinearRegression()\n",
    "\n",
    "# Melatih model menggunakan data latih\n",
    "model.fit(productions_X, harvest_area_Y)"
   ]
  },
  {
   "cell_type": "markdown",
   "id": "952bc2d1",
   "metadata": {},
   "source": [
    "### Testing"
   ]
  },
  {
   "cell_type": "code",
   "execution_count": 19,
   "id": "36391c61",
   "metadata": {},
   "outputs": [
    {
     "name": "stdout",
     "output_type": "stream",
     "text": [
      "Prediksi Nilai:  [69497.21464561 69500.84452157]\n"
     ]
    }
   ],
   "source": [
    "# Mempersiapkan data uji untuk prediksi, dalam hal ini, 'Production (X)' dengan nilai 14 dan 34\n",
    "productions_X_test = [[14], [34]]\n",
    "\n",
    "# Melakukan prediksi menggunakan model regresi linear\n",
    "pred_harvest_area_Y = model.predict(productions_X_test)\n",
    "\n",
    "# Menampilkan hasil prediksi\n",
    "print(\"Prediksi Nilai: \", pred_harvest_area_Y)"
   ]
  },
  {
   "cell_type": "code",
   "execution_count": 20,
   "id": "3de9290d",
   "metadata": {},
   "outputs": [
    {
     "name": "stdout",
     "output_type": "stream",
     "text": [
      "Koefisien:  [0.1814938]\n",
      "Intercept:  69494.67373244301\n"
     ]
    }
   ],
   "source": [
    "# Rumus Regresi -> y = ax + b \n",
    "# (a = koefisien, b = intercept)\n",
    "# Menampilkan koefisien (a) dan intercept (b) dari model regresi\n",
    "print(\"Koefisien: \", model.coef_)\n",
    "print(\"Intercept: \", model.intercept_)"
   ]
  },
  {
   "cell_type": "code",
   "execution_count": 21,
   "id": "8dad9641",
   "metadata": {},
   "outputs": [
    {
     "name": "stdout",
     "output_type": "stream",
     "text": [
      "[69499.57406498]\n"
     ]
    }
   ],
   "source": [
    "# Menghitung nilai prediksi (y) menggunakan rumus regresi linear pada nilai x=27\n",
    "y = model.coef_* 27 + model.intercept_\n",
    "print(y)"
   ]
  },
  {
   "cell_type": "markdown",
   "id": "2d371fb4",
   "metadata": {},
   "source": [
    "### Visualisasi"
   ]
  },
  {
   "cell_type": "code",
   "execution_count": 22,
   "id": "c679cbc0",
   "metadata": {
    "scrolled": true
   },
   "outputs": [
    {
     "data": {
      "image/png": "[encoded data removed]",
      "text/plain": [
       "<Figure size 640x480 with 1 Axes>"
      ]
     },
     "metadata": {},
     "output_type": "display_data"
    }
   ],
   "source": [
    "# Import library matplotlib untuk visualisasi data\n",
    "import matplotlib.pyplot as plt \n",
    "\n",
    "# Prediksi Harvest Area (Y) menggunakan model pada seluruh data Production (X)\n",
    "prediksi_harvest_area_Y = model.predict(productions_X)\n",
    "\n",
    "# Membuat DataFrame baru untuk data hasil prediksi\n",
    "dataframe_baru = pd.DataFrame({'Production (X)': data['Production (X)'], 'Harvest Area (Y)': prediksi_harvest_area_Y})\n",
    "\n",
    "# Melakukan plotting scatter plot dan garis regresi pada data hasil prediksi\n",
    "plt.scatter(data['Production (X)'], data['Harvest Area (Y)'])\n",
    "plt.plot(dataframe_baru['Production (X)'], dataframe_baru['Harvest Area (Y)'], color='red')\n",
    "\n",
    "# Menambahkan label dan judul pada plot\n",
    "plt.xlabel('Production (X)')\n",
    "plt.ylabel('Harvest Area (Y)')\n",
    "plt.title('Plot Regresi Data Production (X) dan Harvest Area (Y)')\n",
    "\n",
    "# Menampilkan plot\n",
    "plt.show()"
   ]
  },
  {
   "cell_type": "code",
   "execution_count": 25,
   "id": "04f08422",
   "metadata": {},
   "outputs": [
    {
     "name": "stdout",
     "output_type": "stream",
     "text": [
      "R-squared untuk data uji yang sebenarnya: 0.8546683225108225\n"
     ]
    }
   ],
   "source": [
    "# Import library train_test_split untuk membagi data menjadi data pelatihan dan pengujian\n",
    "from sklearn.model_selection import train_test_split\n",
    "\n",
    "# Membagi data menjadi data latih (80%) dan data uji (20%)\n",
    "X_train, X_test, y_train, y_test = train_test_split(productions_X, harvest_area_Y, test_size=0.2, random_state=42)\n",
    "\n",
    "# Melatih model regresi linear pada data latih\n",
    "model.fit(X_train, y_train)\n",
    "\n",
    "# Melakukan prediksi pada data uji\n",
    "prediksi_harvest_area_Y_test = model.predict(X_test)\n",
    "\n",
    "# Menghitung nilai R-squared untuk data uji yang sebenarnya\n",
    "r2_test_actual = r2_score(y_test, prediksi_harvest_area_Y_test)\n",
    "\n",
    "# Menampilkan nilai R-squared untuk data uji yang sebenarnya\n",
    "print(f'R-squared untuk data uji yang sebenarnya: {r2_test_actual}')"
   ]
  },
  {
   "cell_type": "code",
   "execution_count": null,
   "id": "e946aaca",
   "metadata": {},
   "outputs": [],
   "source": []
  },
  {
   "cell_type": "code",
   "execution_count": null,
   "id": "36adb4b8",
   "metadata": {},
   "outputs": [],
   "source": []
  }
 ],
 "metadata": {
  "kernelspec": {
   "display_name": "Python 3 (ipykernel)",
   "language": "python",
   "name": "python3"
  },
  "language_info": {
   "codemirror_mode": {
    "name": "ipython",
    "version": 3
   },
   "file_extension": ".py",
   "mimetype": "text/x-python",
   "name": "python",
   "nbconvert_exporter": "python",
   "pygments_lexer": "ipython3",
   "version": "3.11.5"
  }
 },
 "nbformat": 4,
 "nbformat_minor": 5
}
